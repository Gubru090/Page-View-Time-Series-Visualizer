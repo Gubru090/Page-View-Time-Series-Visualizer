{
 "cells": [
  {
   "cell_type": "code",
   "execution_count": 1,
   "id": "303e2cb9-f3e3-46e9-bccb-02713b0fff69",
   "metadata": {},
   "outputs": [],
   "source": [
    "import pandas as pd\n",
    "import matplotlib.pyplot as plt\n",
    "import seaborn as sns\n"
   ]
  },
  {
   "cell_type": "code",
   "execution_count": 2,
   "id": "e3ee62fa-858e-4f47-b564-725cd205d706",
   "metadata": {},
   "outputs": [],
   "source": [
    "\n",
    "# Load the dataset\n",
    "df = pd.read_csv(\"fcc-forum-pageviews.csv\", parse_dates=[\"date\"], index_col=\"date\")\n"
   ]
  },
  {
   "cell_type": "code",
   "execution_count": 3,
   "id": "13bb0aa8-3562-45af-a0a2-2a22b0f9157a",
   "metadata": {},
   "outputs": [],
   "source": [
    "# Clean the data\n",
    "df = df[(df[\"value\"] >= df[\"value\"].quantile(0.025)) & (df[\"value\"] <= df[\"value\"].quantile(0.975))]\n"
   ]
  },
  {
   "cell_type": "code",
   "execution_count": 4,
   "id": "d1cc7b23-48e0-4a90-8d52-beac3d373198",
   "metadata": {},
   "outputs": [],
   "source": [
    "def draw_line_plot():\n",
    "    # Draw the line plot\n",
    "    fig, ax = plt.subplots(figsize=(10, 5))\n",
    "    ax.plot(df.index, df[\"value\"], color=\"r\", linewidth=1)\n",
    "\n",
    "    # Set title and labels\n",
    "    ax.set_title(\"Daily freeCodeCamp Forum Page Views 5/2016-12/2019\")\n",
    "    ax.set_xlabel(\"Date\")\n",
    "    ax.set_ylabel(\"Page Views\")\n",
    "\n",
    "    # Save and return figure\n",
    "    fig.savefig(\"line_plot.png\")\n",
    "    return fig\n"
   ]
  },
  {
   "cell_type": "code",
   "execution_count": 5,
   "id": "5041e479-5ff2-4eb3-927a-d5e4348601a3",
   "metadata": {},
   "outputs": [],
   "source": [
    "def draw_bar_plot():\n",
    "    # Copy and prepare the data\n",
    "    df_bar = df.copy()\n",
    "    df_bar[\"year\"] = df_bar.index.year\n",
    "    df_bar[\"month\"] = df_bar.index.month_name()\n",
    "\n",
    "    # Pivot the table\n",
    "    df_bar = df_bar.groupby([\"year\", \"month\"])[\"value\"].mean().unstack()\n",
    "\n",
    "    # Draw the bar plot\n",
    "    fig = df_bar.plot(kind=\"bar\", figsize=(10, 5)).figure\n",
    "\n",
    "    # Customize the chart\n",
    "    plt.title(\"Average daily page views for each month grouped by year\")\n",
    "    plt.xlabel(\"Years\")\n",
    "    plt.ylabel(\"Average Page Views\")\n",
    "    plt.legend(title=\"Months\")\n",
    "\n",
    "    # Save and return figure\n",
    "    fig.savefig(\"bar_plot.png\")\n",
    "    return fig\n"
   ]
  },
  {
   "cell_type": "code",
   "execution_count": 6,
   "id": "e39bd70e-5c3b-4ec9-8e44-aff198c9f385",
   "metadata": {},
   "outputs": [],
   "source": [
    "def draw_box_plot():\n",
    "    # Prepare data for box plots\n",
    "    df_box = df.copy()\n",
    "    df_box.reset_index(inplace=True)\n",
    "    df_box['year'] = df_box['date'].dt.year\n",
    "    df_box['month'] = df_box['date'].dt.strftime('%b')\n",
    "    df_box['month_num'] = df_box['date'].dt.month\n",
    "    df_box = df_box.sort_values('month_num')\n",
    "\n",
    "    # Draw box plots using Seaborn\n",
    "    fig, axes = plt.subplots(1, 2, figsize=(15, 5))\n",
    "\n",
    "    # Year-wise Box Plot (Trend)\n",
    "    sns.boxplot(x=\"year\", y=\"value\", data=df_box, ax=axes[0])\n",
    "    axes[0].set_title(\"Year-wise Box Plot (Trend)\")\n",
    "    axes[0].set_xlabel(\"Year\")\n",
    "    axes[0].set_ylabel(\"Page Views\")\n",
    "\n",
    "    # Month-wise Box Plot (Seasonality)\n",
    "    sns.boxplot(x=\"month\", y=\"value\", data=df_box, ax=axes[1])\n",
    "    axes[1].set_title(\"Month-wise Box Plot (Seasonality)\")\n",
    "    axes[1].set_xlabel(\"Month\")\n",
    "    axes[1].set_ylabel(\"Page Views\")\n",
    "\n",
    "    # Save and return figure\n",
    "    fig.savefig(\"box_plot.png\")\n",
    "    return fig\n"
   ]
  },
  {
   "cell_type": "code",
   "execution_count": null,
   "id": "a6f9f573-536a-4a5c-bcd4-d8222b91aa5f",
   "metadata": {},
   "outputs": [],
   "source": []
  }
 ],
 "metadata": {
  "kernelspec": {
   "display_name": "Python 3 (ipykernel)",
   "language": "python",
   "name": "python3"
  },
  "language_info": {
   "codemirror_mode": {
    "name": "ipython",
    "version": 3
   },
   "file_extension": ".py",
   "mimetype": "text/x-python",
   "name": "python",
   "nbconvert_exporter": "python",
   "pygments_lexer": "ipython3",
   "version": "3.13.0"
  }
 },
 "nbformat": 4,
 "nbformat_minor": 5
}
